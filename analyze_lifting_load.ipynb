{
 "cells": [
  {
   "cell_type": "code",
   "execution_count": 1,
   "metadata": {
    "pycharm": {
     "is_executing": true
    }
   },
   "outputs": [],
   "source": [
    "import numpy as np\n",
    "import matplotlib.pyplot as plt\n",
    "from numpy.linalg import matrix_rank\n",
    "from numpy.linalg import inv\n",
    "import pandas as pd\n",
    "import pysindy as ps\n",
    "import random\n",
    "import seaborn as sns\n",
    "\n",
    "%matplotlib inline\n",
    "plt.rcParams[\"font.family\"] = 'Arial'"
   ]
  },
  {
   "cell_type": "code",
   "execution_count": 2,
   "metadata": {},
   "outputs": [
    {
     "data": {
      "text/html": [
       "<div>\n",
       "<style scoped>\n",
       "    .dataframe tbody tr th:only-of-type {\n",
       "        vertical-align: middle;\n",
       "    }\n",
       "\n",
       "    .dataframe tbody tr th {\n",
       "        vertical-align: top;\n",
       "    }\n",
       "\n",
       "    .dataframe thead th {\n",
       "        text-align: right;\n",
       "    }\n",
       "</style>\n",
       "<table border=\"1\" class=\"dataframe\">\n",
       "  <thead>\n",
       "    <tr style=\"text-align: right;\">\n",
       "      <th></th>\n",
       "      <th>Contact_length</th>\n",
       "      <th>Lifting_load</th>\n",
       "      <th>Maximum_Mises_stress</th>\n",
       "      <th>Maximum_displacement</th>\n",
       "    </tr>\n",
       "  </thead>\n",
       "  <tbody>\n",
       "    <tr>\n",
       "      <th>0</th>\n",
       "      <td>55</td>\n",
       "      <td>0.010</td>\n",
       "      <td>43</td>\n",
       "      <td>51</td>\n",
       "    </tr>\n",
       "    <tr>\n",
       "      <th>1</th>\n",
       "      <td>55</td>\n",
       "      <td>0.025</td>\n",
       "      <td>75</td>\n",
       "      <td>127</td>\n",
       "    </tr>\n",
       "    <tr>\n",
       "      <th>2</th>\n",
       "      <td>55</td>\n",
       "      <td>0.050</td>\n",
       "      <td>184</td>\n",
       "      <td>353</td>\n",
       "    </tr>\n",
       "    <tr>\n",
       "      <th>3</th>\n",
       "      <td>55</td>\n",
       "      <td>0.080</td>\n",
       "      <td>227</td>\n",
       "      <td>522</td>\n",
       "    </tr>\n",
       "    <tr>\n",
       "      <th>4</th>\n",
       "      <td>55</td>\n",
       "      <td>0.100</td>\n",
       "      <td>260</td>\n",
       "      <td>717</td>\n",
       "    </tr>\n",
       "    <tr>\n",
       "      <th>5</th>\n",
       "      <td>45</td>\n",
       "      <td>0.010</td>\n",
       "      <td>51</td>\n",
       "      <td>68</td>\n",
       "    </tr>\n",
       "    <tr>\n",
       "      <th>6</th>\n",
       "      <td>45</td>\n",
       "      <td>0.025</td>\n",
       "      <td>86</td>\n",
       "      <td>157</td>\n",
       "    </tr>\n",
       "    <tr>\n",
       "      <th>7</th>\n",
       "      <td>45</td>\n",
       "      <td>0.050</td>\n",
       "      <td>245</td>\n",
       "      <td>385</td>\n",
       "    </tr>\n",
       "    <tr>\n",
       "      <th>8</th>\n",
       "      <td>45</td>\n",
       "      <td>0.080</td>\n",
       "      <td>257</td>\n",
       "      <td>550</td>\n",
       "    </tr>\n",
       "    <tr>\n",
       "      <th>9</th>\n",
       "      <td>45</td>\n",
       "      <td>0.100</td>\n",
       "      <td>348</td>\n",
       "      <td>805</td>\n",
       "    </tr>\n",
       "    <tr>\n",
       "      <th>10</th>\n",
       "      <td>65</td>\n",
       "      <td>0.010</td>\n",
       "      <td>34</td>\n",
       "      <td>35</td>\n",
       "    </tr>\n",
       "    <tr>\n",
       "      <th>11</th>\n",
       "      <td>65</td>\n",
       "      <td>0.025</td>\n",
       "      <td>54</td>\n",
       "      <td>101</td>\n",
       "    </tr>\n",
       "    <tr>\n",
       "      <th>12</th>\n",
       "      <td>65</td>\n",
       "      <td>0.050</td>\n",
       "      <td>147</td>\n",
       "      <td>311</td>\n",
       "    </tr>\n",
       "    <tr>\n",
       "      <th>13</th>\n",
       "      <td>65</td>\n",
       "      <td>0.080</td>\n",
       "      <td>211</td>\n",
       "      <td>487</td>\n",
       "    </tr>\n",
       "    <tr>\n",
       "      <th>14</th>\n",
       "      <td>65</td>\n",
       "      <td>0.100</td>\n",
       "      <td>240</td>\n",
       "      <td>610</td>\n",
       "    </tr>\n",
       "  </tbody>\n",
       "</table>\n",
       "</div>"
      ],
      "text/plain": [
       "    Contact_length  Lifting_load  Maximum_Mises_stress  Maximum_displacement\n",
       "0               55         0.010                    43                    51\n",
       "1               55         0.025                    75                   127\n",
       "2               55         0.050                   184                   353\n",
       "3               55         0.080                   227                   522\n",
       "4               55         0.100                   260                   717\n",
       "5               45         0.010                    51                    68\n",
       "6               45         0.025                    86                   157\n",
       "7               45         0.050                   245                   385\n",
       "8               45         0.080                   257                   550\n",
       "9               45         0.100                   348                   805\n",
       "10              65         0.010                    34                    35\n",
       "11              65         0.025                    54                   101\n",
       "12              65         0.050                   147                   311\n",
       "13              65         0.080                   211                   487\n",
       "14              65         0.100                   240                   610"
      ]
     },
     "execution_count": 2,
     "metadata": {},
     "output_type": "execute_result"
    }
   ],
   "source": [
    "df = pd.read_csv('dataset/dataset_different_loading.csv')\n",
    "df_norm = (df - df.mean()) / df.std()\n",
    "df"
   ]
  },
  {
   "cell_type": "code",
   "execution_count": 3,
   "metadata": {},
   "outputs": [
    {
     "data": {
      "text/plain": [
       "[None, None]"
      ]
     },
     "execution_count": 3,
     "metadata": {},
     "output_type": "execute_result"
    },
    {
     "data": {
      "image/png": "[encoded data removed]",
      "text/plain": [
       "<Figure size 432x288 with 1 Axes>"
      ]
     },
     "metadata": {
      "needs_background": "light"
     },
     "output_type": "display_data"
    }
   ],
   "source": [
    "fig = plt.figure()\n",
    "ax = sns.lineplot(data=df, x='Lifting_load', y='Maximum_displacement', hue='Contact_length', marker='o')\n",
    "plt.xlabel('Lifting load', fontsize=16)\n",
    "plt.ylabel('Maximum displacement', fontsize=16)\n",
    "plt.setp(ax.get_legend().get_texts(), fontsize='14')\n",
    "plt.setp(ax.get_legend().get_title(), fontsize='16')"
   ]
  },
  {
   "cell_type": "code",
   "execution_count": 4,
   "metadata": {},
   "outputs": [
    {
     "name": "stdout",
     "output_type": "stream",
     "text": [
      "(13, 2) (13, 2)\n",
      "0.9724966904665868 0.9639964308325308\n",
      "    Contact_length  Lifting_load\n",
      "11        1.183216     -0.809738\n",
      "4         0.000000      1.359202 \n",
      " [[-0.92491006 -0.90675578]\n",
      " [ 1.28007307  1.29821931]]\n",
      "    Maximum_Mises_stress  Maximum_displacement\n",
      "11             -1.096101             -0.980213\n",
      "4               0.954112              1.426049\n"
     ]
    }
   ],
   "source": [
    "from sklearn.model_selection import train_test_split\n",
    "from sklearn.ensemble import RandomForestRegressor\n",
    "\n",
    "df_train, df_test = train_test_split(df_norm, test_size=0.1, random_state=2)\n",
    "X_train, y_train = df_train[['Contact_length', 'Lifting_load']], df_train[['Maximum_Mises_stress', 'Maximum_displacement']]\n",
    "X_test, y_test = df_test[['Contact_length', 'Lifting_load']], df_test[['Maximum_Mises_stress', 'Maximum_displacement']]\n",
    "\n",
    "regr = RandomForestRegressor(max_depth=3).fit(X_train, y_train)\n",
    "\n",
    "pred_test = regr.predict(X_test)\n",
    "\n",
    "r2_train = regr.score(X_train, y_train)\n",
    "r2_test = regr.score(X_test, y_test)\n",
    "print(X_train.shape, y_train.shape)\n",
    "print(r2_train, r2_test)\n",
    "print(X_test, '\\n', pred_test)\n",
    "print(y_test)"
   ]
  },
  {
   "cell_type": "code",
   "execution_count": 5,
   "metadata": {},
   "outputs": [],
   "source": [
    "X_target_list = []\n",
    "\n",
    "for i in range(45, 65):\n",
    "    X_target_list.append([(i - df.mean()[0]) / df.std()[0], 0.1])\n",
    "\n",
    "X_target = np.array(X_target_list)\n",
    "pred_X_target = regr.predict(X_target)\n",
    "pred_y_target = pred_X_target * df.std()[2:].to_numpy() + df.mean()[2:].to_numpy()"
   ]
  },
  {
   "cell_type": "code",
   "execution_count": 8,
   "metadata": {},
   "outputs": [
    {
     "data": {
      "text/plain": [
       "Text(0, 0.5, 'Maximum_Mises_stress')"
      ]
     },
     "execution_count": 8,
     "metadata": {},
     "output_type": "execute_result"
    },
    {
     "data": {
      "image/png": "[encoded data removed]",
      "text/plain": [
       "<Figure size 432x288 with 1 Axes>"
      ]
     },
     "metadata": {
      "needs_background": "light"
     },
     "output_type": "display_data"
    }
   ],
   "source": [
    "fig = plt.figure()\n",
    "plt.plot(X_target[:,0] * df.std()[0] + df.mean()[0], pred_y_target[:,0])\n",
    "plt.scatter(X_target[:,0] * df.std()[0] + df.mean()[0], pred_y_target[:,0])\n",
    "plt.xlabel('Contact length', fontsize=16)\n",
    "plt.ylabel('Maximum_Mises_stress', fontsize=16)"
   ]
  },
  {
   "cell_type": "code",
   "execution_count": 7,
   "metadata": {},
   "outputs": [
    {
     "data": {
      "text/plain": [
       "Text(0, 0.5, 'Maximum_displacement')"
      ]
     },
     "execution_count": 7,
     "metadata": {},
     "output_type": "execute_result"
    },
    {
     "data": {
      "image/png": "[encoded data removed]",
      "text/plain": [
       "<Figure size 432x288 with 1 Axes>"
      ]
     },
     "metadata": {
      "needs_background": "light"
     },
     "output_type": "display_data"
    }
   ],
   "source": [
    "fig = plt.figure()\n",
    "plt.plot(X_target[:,0] * df.std()[0] + df.mean()[0], pred_y_target[:,1])\n",
    "plt.scatter(X_target[:,0] * df.std()[0] + df.mean()[0], pred_y_target[:,1])\n",
    "plt.xlabel('Contact length', fontsize=16)\n",
    "plt.ylabel('Maximum_displacement', fontsize=16)"
   ]
  },
  {
   "cell_type": "code",
   "execution_count": 9,
   "metadata": {},
   "outputs": [
    {
     "data": {
      "text/html": [
       "<div>\n",
       "<style scoped>\n",
       "    .dataframe tbody tr th:only-of-type {\n",
       "        vertical-align: middle;\n",
       "    }\n",
       "\n",
       "    .dataframe tbody tr th {\n",
       "        vertical-align: top;\n",
       "    }\n",
       "\n",
       "    .dataframe thead th {\n",
       "        text-align: right;\n",
       "    }\n",
       "</style>\n",
       "<table border=\"1\" class=\"dataframe\">\n",
       "  <thead>\n",
       "    <tr style=\"text-align: right;\">\n",
       "      <th></th>\n",
       "      <th>Contact_length</th>\n",
       "      <th>Lifting_load</th>\n",
       "      <th>Maximum_Mises_stress</th>\n",
       "      <th>Maximum_displacement</th>\n",
       "    </tr>\n",
       "  </thead>\n",
       "  <tbody>\n",
       "    <tr>\n",
       "      <th>count</th>\n",
       "      <td>15.000000</td>\n",
       "      <td>15.000000</td>\n",
       "      <td>15.000000</td>\n",
       "      <td>15.000000</td>\n",
       "    </tr>\n",
       "    <tr>\n",
       "      <th>mean</th>\n",
       "      <td>55.000000</td>\n",
       "      <td>0.053000</td>\n",
       "      <td>164.133333</td>\n",
       "      <td>351.933333</td>\n",
       "    </tr>\n",
       "    <tr>\n",
       "      <th>std</th>\n",
       "      <td>8.451543</td>\n",
       "      <td>0.034579</td>\n",
       "      <td>100.477337</td>\n",
       "      <td>255.998735</td>\n",
       "    </tr>\n",
       "    <tr>\n",
       "      <th>min</th>\n",
       "      <td>45.000000</td>\n",
       "      <td>0.010000</td>\n",
       "      <td>34.000000</td>\n",
       "      <td>35.000000</td>\n",
       "    </tr>\n",
       "    <tr>\n",
       "      <th>25%</th>\n",
       "      <td>45.000000</td>\n",
       "      <td>0.025000</td>\n",
       "      <td>64.500000</td>\n",
       "      <td>114.000000</td>\n",
       "    </tr>\n",
       "    <tr>\n",
       "      <th>50%</th>\n",
       "      <td>55.000000</td>\n",
       "      <td>0.050000</td>\n",
       "      <td>184.000000</td>\n",
       "      <td>353.000000</td>\n",
       "    </tr>\n",
       "    <tr>\n",
       "      <th>75%</th>\n",
       "      <td>65.000000</td>\n",
       "      <td>0.080000</td>\n",
       "      <td>242.500000</td>\n",
       "      <td>536.000000</td>\n",
       "    </tr>\n",
       "    <tr>\n",
       "      <th>max</th>\n",
       "      <td>65.000000</td>\n",
       "      <td>0.100000</td>\n",
       "      <td>348.000000</td>\n",
       "      <td>805.000000</td>\n",
       "    </tr>\n",
       "  </tbody>\n",
       "</table>\n",
       "</div>"
      ],
      "text/plain": [
       "       Contact_length  Lifting_load  Maximum_Mises_stress  \\\n",
       "count       15.000000     15.000000             15.000000   \n",
       "mean        55.000000      0.053000            164.133333   \n",
       "std          8.451543      0.034579            100.477337   \n",
       "min         45.000000      0.010000             34.000000   \n",
       "25%         45.000000      0.025000             64.500000   \n",
       "50%         55.000000      0.050000            184.000000   \n",
       "75%         65.000000      0.080000            242.500000   \n",
       "max         65.000000      0.100000            348.000000   \n",
       "\n",
       "       Maximum_displacement  \n",
       "count             15.000000  \n",
       "mean             351.933333  \n",
       "std              255.998735  \n",
       "min               35.000000  \n",
       "25%              114.000000  \n",
       "50%              353.000000  \n",
       "75%              536.000000  \n",
       "max              805.000000  "
      ]
     },
     "execution_count": 9,
     "metadata": {},
     "output_type": "execute_result"
    }
   ],
   "source": [
    "df.describe()"
   ]
  },
  {
   "cell_type": "code",
   "execution_count": null,
   "metadata": {},
   "outputs": [],
   "source": []
  }
 ],
 "metadata": {
  "interpreter": {
   "hash": "d4e05679d6a31593988b5489bd865ca5a262d5481eb276cba948c252ea078b95"
  },
  "kernelspec": {
   "display_name": "Python 3.8.8 ('xie')",
   "language": "python",
   "name": "python3"
  },
  "language_info": {
   "codemirror_mode": {
    "name": "ipython",
    "version": 3
   },
   "file_extension": ".py",
   "mimetype": "text/x-python",
   "name": "python",
   "nbconvert_exporter": "python",
   "pygments_lexer": "ipython3",
   "version": "3.8.8"
  },
  "toc": {
   "base_numbering": 1,
   "nav_menu": {},
   "number_sections": true,
   "sideBar": true,
   "skip_h1_title": false,
   "title_cell": "Table of Contents",
   "title_sidebar": "Contents",
   "toc_cell": true,
   "toc_position": {},
   "toc_section_display": true,
   "toc_window_display": true
  }
 },
 "nbformat": 4,
 "nbformat_minor": 4
}
