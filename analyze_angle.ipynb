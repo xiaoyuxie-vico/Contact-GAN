{
 "cells": [
  {
   "cell_type": "code",
   "execution_count": 1,
   "metadata": {
    "pycharm": {
     "is_executing": true
    }
   },
   "outputs": [],
   "source": [
    "import numpy as np\n",
    "import matplotlib.pyplot as plt\n",
    "from numpy.linalg import matrix_rank\n",
    "from numpy.linalg import inv\n",
    "import pandas as pd\n",
    "import pysindy as ps\n",
    "import random\n",
    "import seaborn as sns\n",
    "\n",
    "%matplotlib inline\n",
    "plt.rcParams[\"font.family\"] = 'Arial'"
   ]
  },
  {
   "cell_type": "code",
   "execution_count": 2,
   "metadata": {},
   "outputs": [
    {
     "data": {
      "text/html": [
       "<div>\n",
       "<style scoped>\n",
       "    .dataframe tbody tr th:only-of-type {\n",
       "        vertical-align: middle;\n",
       "    }\n",
       "\n",
       "    .dataframe tbody tr th {\n",
       "        vertical-align: top;\n",
       "    }\n",
       "\n",
       "    .dataframe thead th {\n",
       "        text-align: right;\n",
       "    }\n",
       "</style>\n",
       "<table border=\"1\" class=\"dataframe\">\n",
       "  <thead>\n",
       "    <tr style=\"text-align: right;\">\n",
       "      <th></th>\n",
       "      <th>Contact_length</th>\n",
       "      <th>Operation_angle</th>\n",
       "      <th>Maximum_displacement</th>\n",
       "      <th>Maximum_displacement.1</th>\n",
       "    </tr>\n",
       "  </thead>\n",
       "  <tbody>\n",
       "    <tr>\n",
       "      <th>0</th>\n",
       "      <td>55</td>\n",
       "      <td>0</td>\n",
       "      <td>184</td>\n",
       "      <td>353</td>\n",
       "    </tr>\n",
       "    <tr>\n",
       "      <th>1</th>\n",
       "      <td>55</td>\n",
       "      <td>15</td>\n",
       "      <td>141</td>\n",
       "      <td>303</td>\n",
       "    </tr>\n",
       "    <tr>\n",
       "      <th>2</th>\n",
       "      <td>55</td>\n",
       "      <td>30</td>\n",
       "      <td>124</td>\n",
       "      <td>257</td>\n",
       "    </tr>\n",
       "    <tr>\n",
       "      <th>3</th>\n",
       "      <td>55</td>\n",
       "      <td>45</td>\n",
       "      <td>97</td>\n",
       "      <td>185</td>\n",
       "    </tr>\n",
       "    <tr>\n",
       "      <th>4</th>\n",
       "      <td>55</td>\n",
       "      <td>60</td>\n",
       "      <td>85</td>\n",
       "      <td>136</td>\n",
       "    </tr>\n",
       "    <tr>\n",
       "      <th>5</th>\n",
       "      <td>55</td>\n",
       "      <td>75</td>\n",
       "      <td>74</td>\n",
       "      <td>71</td>\n",
       "    </tr>\n",
       "    <tr>\n",
       "      <th>6</th>\n",
       "      <td>45</td>\n",
       "      <td>0</td>\n",
       "      <td>245</td>\n",
       "      <td>385</td>\n",
       "    </tr>\n",
       "    <tr>\n",
       "      <th>7</th>\n",
       "      <td>45</td>\n",
       "      <td>15</td>\n",
       "      <td>175</td>\n",
       "      <td>325</td>\n",
       "    </tr>\n",
       "    <tr>\n",
       "      <th>8</th>\n",
       "      <td>45</td>\n",
       "      <td>30</td>\n",
       "      <td>154</td>\n",
       "      <td>280</td>\n",
       "    </tr>\n",
       "    <tr>\n",
       "      <th>9</th>\n",
       "      <td>45</td>\n",
       "      <td>45</td>\n",
       "      <td>120</td>\n",
       "      <td>212</td>\n",
       "    </tr>\n",
       "    <tr>\n",
       "      <th>10</th>\n",
       "      <td>45</td>\n",
       "      <td>60</td>\n",
       "      <td>97</td>\n",
       "      <td>134</td>\n",
       "    </tr>\n",
       "    <tr>\n",
       "      <th>11</th>\n",
       "      <td>45</td>\n",
       "      <td>75</td>\n",
       "      <td>89</td>\n",
       "      <td>89</td>\n",
       "    </tr>\n",
       "    <tr>\n",
       "      <th>12</th>\n",
       "      <td>55</td>\n",
       "      <td>0</td>\n",
       "      <td>147</td>\n",
       "      <td>311</td>\n",
       "    </tr>\n",
       "    <tr>\n",
       "      <th>13</th>\n",
       "      <td>55</td>\n",
       "      <td>15</td>\n",
       "      <td>121</td>\n",
       "      <td>273</td>\n",
       "    </tr>\n",
       "    <tr>\n",
       "      <th>14</th>\n",
       "      <td>55</td>\n",
       "      <td>30</td>\n",
       "      <td>114</td>\n",
       "      <td>230</td>\n",
       "    </tr>\n",
       "    <tr>\n",
       "      <th>15</th>\n",
       "      <td>55</td>\n",
       "      <td>45</td>\n",
       "      <td>82</td>\n",
       "      <td>147</td>\n",
       "    </tr>\n",
       "    <tr>\n",
       "      <th>16</th>\n",
       "      <td>55</td>\n",
       "      <td>60</td>\n",
       "      <td>71</td>\n",
       "      <td>102</td>\n",
       "    </tr>\n",
       "  </tbody>\n",
       "</table>\n",
       "</div>"
      ],
      "text/plain": [
       "    Contact_length  Operation_angle  Maximum_displacement  \\\n",
       "0               55                0                   184   \n",
       "1               55               15                   141   \n",
       "2               55               30                   124   \n",
       "3               55               45                    97   \n",
       "4               55               60                    85   \n",
       "5               55               75                    74   \n",
       "6               45                0                   245   \n",
       "7               45               15                   175   \n",
       "8               45               30                   154   \n",
       "9               45               45                   120   \n",
       "10              45               60                    97   \n",
       "11              45               75                    89   \n",
       "12              55                0                   147   \n",
       "13              55               15                   121   \n",
       "14              55               30                   114   \n",
       "15              55               45                    82   \n",
       "16              55               60                    71   \n",
       "\n",
       "    Maximum_displacement.1  \n",
       "0                      353  \n",
       "1                      303  \n",
       "2                      257  \n",
       "3                      185  \n",
       "4                      136  \n",
       "5                       71  \n",
       "6                      385  \n",
       "7                      325  \n",
       "8                      280  \n",
       "9                      212  \n",
       "10                     134  \n",
       "11                      89  \n",
       "12                     311  \n",
       "13                     273  \n",
       "14                     230  \n",
       "15                     147  \n",
       "16                     102  "
      ]
     },
     "execution_count": 2,
     "metadata": {},
     "output_type": "execute_result"
    }
   ],
   "source": [
    "df = pd.read_csv('dataset/dataset_different_angle.csv')\n",
    "df_norm = (df - df.mean()) / df.std()\n",
    "df"
   ]
  },
  {
   "cell_type": "code",
   "execution_count": 3,
   "metadata": {},
   "outputs": [
    {
     "data": {
      "text/plain": [
       "[None, None]"
      ]
     },
     "execution_count": 3,
     "metadata": {},
     "output_type": "execute_result"
    },
    {
     "data": {
      "image/png": "[encoded data removed]",
      "text/plain": [
       "<Figure size 432x288 with 1 Axes>"
      ]
     },
     "metadata": {
      "needs_background": "light"
     },
     "output_type": "display_data"
    }
   ],
   "source": [
    "fig = plt.figure()\n",
    "ax = sns.lineplot(data=df, x='Operation_angle', y='Maximum_displacement', hue='Contact_length', marker='o')\n",
    "plt.xlabel('Operation angle', fontsize=16)\n",
    "plt.ylabel('Maximum displacement', fontsize=16)\n",
    "plt.setp(ax.get_legend().get_texts(), fontsize='14')\n",
    "plt.setp(ax.get_legend().get_title(), fontsize='16')"
   ]
  },
  {
   "cell_type": "code",
   "execution_count": 4,
   "metadata": {},
   "outputs": [
    {
     "name": "stdout",
     "output_type": "stream",
     "text": [
      "(13, 2) (13, 1)\n",
      "0.9279940497719157 0.9436910867660917\n",
      "    Contact_length  Operation_angle\n",
      "5         0.716498         1.563150\n",
      "1         0.716498        -0.798943\n",
      "10       -1.313579         0.972627\n",
      "2         0.716498        -0.208420 \n",
      " [-0.9099269   0.27554437 -0.6679615  -0.16542601]\n",
      "    Maximum_displacement\n",
      "5              -1.100718\n",
      "1               0.353711\n",
      "10             -0.601436\n",
      "2              -0.015323\n"
     ]
    },
    {
     "name": "stderr",
     "output_type": "stream",
     "text": [
      "<ipython-input-4-782c7a820d08>:8: DataConversionWarning: A column-vector y was passed when a 1d array was expected. Please change the shape of y to (n_samples,), for example using ravel().\n",
      "  regr = RandomForestRegressor(max_depth=3).fit(X_train, y_train)\n"
     ]
    }
   ],
   "source": [
    "from sklearn.model_selection import train_test_split\n",
    "from sklearn.ensemble import RandomForestRegressor\n",
    "\n",
    "df_train, df_test = train_test_split(df_norm, test_size=0.2, random_state=5)\n",
    "X_train, y_train = df_train[['Contact_length', 'Operation_angle']], df_train[['Maximum_displacement']]\n",
    "X_test, y_test = df_test[['Contact_length', 'Operation_angle']], df_test[['Maximum_displacement']]\n",
    "\n",
    "regr = RandomForestRegressor(max_depth=3).fit(X_train, y_train)\n",
    "\n",
    "pred_test = regr.predict(X_test)\n",
    "\n",
    "r2_train = regr.score(X_train, y_train)\n",
    "r2_test = regr.score(X_test, y_test)\n",
    "print(X_train.shape, y_train.shape)\n",
    "print(r2_train, r2_test)\n",
    "print(X_test, '\\n', pred_test)\n",
    "print(y_test)"
   ]
  },
  {
   "cell_type": "code",
   "execution_count": 8,
   "metadata": {},
   "outputs": [],
   "source": [
    "X_target_list = []\n",
    "\n",
    "for i in range(45, 55):\n",
    "    X_target_list.append([(i - df.mean()[0]) / df.std()[0], 0])\n",
    "\n",
    "X_target = np.array(X_target_list)\n",
    "pred_X_target = regr.predict(X_target)\n",
    "pred_y_target = pred_X_target * df.std()[2] + df.mean()[2]"
   ]
  },
  {
   "cell_type": "code",
   "execution_count": 11,
   "metadata": {},
   "outputs": [
    {
     "data": {
      "text/plain": [
       "Text(0, 0.5, 'Maximum_displacement')"
      ]
     },
     "execution_count": 11,
     "metadata": {},
     "output_type": "execute_result"
    },
    {
     "data": {
      "image/png": "[encoded data removed]",
      "text/plain": [
       "<Figure size 432x288 with 1 Axes>"
      ]
     },
     "metadata": {
      "needs_background": "light"
     },
     "output_type": "display_data"
    }
   ],
   "source": [
    "fig = plt.figure()\n",
    "plt.plot(X_target[:,0] * df.std()[0] + df.mean()[0], pred_y_target)\n",
    "plt.scatter(X_target[:,0] * df.std()[0] + df.mean()[0], pred_y_target)\n",
    "plt.xlabel('Contact length', fontsize=16)\n",
    "plt.ylabel('Maximum_displacement', fontsize=16)"
   ]
  },
  {
   "cell_type": "code",
   "execution_count": 10,
   "metadata": {},
   "outputs": [
    {
     "data": {
      "text/html": [
       "<div>\n",
       "<style scoped>\n",
       "    .dataframe tbody tr th:only-of-type {\n",
       "        vertical-align: middle;\n",
       "    }\n",
       "\n",
       "    .dataframe tbody tr th {\n",
       "        vertical-align: top;\n",
       "    }\n",
       "\n",
       "    .dataframe thead th {\n",
       "        text-align: right;\n",
       "    }\n",
       "</style>\n",
       "<table border=\"1\" class=\"dataframe\">\n",
       "  <thead>\n",
       "    <tr style=\"text-align: right;\">\n",
       "      <th></th>\n",
       "      <th>Contact_length</th>\n",
       "      <th>Operation_angle</th>\n",
       "      <th>Maximum_displacement</th>\n",
       "      <th>Maximum_displacement.1</th>\n",
       "    </tr>\n",
       "  </thead>\n",
       "  <tbody>\n",
       "    <tr>\n",
       "      <th>count</th>\n",
       "      <td>17.000000</td>\n",
       "      <td>17.000000</td>\n",
       "      <td>17.000000</td>\n",
       "      <td>17.000000</td>\n",
       "    </tr>\n",
       "    <tr>\n",
       "      <th>mean</th>\n",
       "      <td>51.470588</td>\n",
       "      <td>35.294118</td>\n",
       "      <td>124.705882</td>\n",
       "      <td>223.117647</td>\n",
       "    </tr>\n",
       "    <tr>\n",
       "      <th>std</th>\n",
       "      <td>4.925922</td>\n",
       "      <td>25.401193</td>\n",
       "      <td>46.066209</td>\n",
       "      <td>97.844828</td>\n",
       "    </tr>\n",
       "    <tr>\n",
       "      <th>min</th>\n",
       "      <td>45.000000</td>\n",
       "      <td>0.000000</td>\n",
       "      <td>71.000000</td>\n",
       "      <td>71.000000</td>\n",
       "    </tr>\n",
       "    <tr>\n",
       "      <th>25%</th>\n",
       "      <td>45.000000</td>\n",
       "      <td>15.000000</td>\n",
       "      <td>89.000000</td>\n",
       "      <td>136.000000</td>\n",
       "    </tr>\n",
       "    <tr>\n",
       "      <th>50%</th>\n",
       "      <td>55.000000</td>\n",
       "      <td>30.000000</td>\n",
       "      <td>120.000000</td>\n",
       "      <td>230.000000</td>\n",
       "    </tr>\n",
       "    <tr>\n",
       "      <th>75%</th>\n",
       "      <td>55.000000</td>\n",
       "      <td>60.000000</td>\n",
       "      <td>147.000000</td>\n",
       "      <td>303.000000</td>\n",
       "    </tr>\n",
       "    <tr>\n",
       "      <th>max</th>\n",
       "      <td>55.000000</td>\n",
       "      <td>75.000000</td>\n",
       "      <td>245.000000</td>\n",
       "      <td>385.000000</td>\n",
       "    </tr>\n",
       "  </tbody>\n",
       "</table>\n",
       "</div>"
      ],
      "text/plain": [
       "       Contact_length  Operation_angle  Maximum_displacement  \\\n",
       "count       17.000000        17.000000             17.000000   \n",
       "mean        51.470588        35.294118            124.705882   \n",
       "std          4.925922        25.401193             46.066209   \n",
       "min         45.000000         0.000000             71.000000   \n",
       "25%         45.000000        15.000000             89.000000   \n",
       "50%         55.000000        30.000000            120.000000   \n",
       "75%         55.000000        60.000000            147.000000   \n",
       "max         55.000000        75.000000            245.000000   \n",
       "\n",
       "       Maximum_displacement.1  \n",
       "count               17.000000  \n",
       "mean               223.117647  \n",
       "std                 97.844828  \n",
       "min                 71.000000  \n",
       "25%                136.000000  \n",
       "50%                230.000000  \n",
       "75%                303.000000  \n",
       "max                385.000000  "
      ]
     },
     "execution_count": 10,
     "metadata": {},
     "output_type": "execute_result"
    }
   ],
   "source": [
    "df.describe()"
   ]
  },
  {
   "cell_type": "code",
   "execution_count": null,
   "metadata": {},
   "outputs": [],
   "source": []
  }
 ],
 "metadata": {
  "interpreter": {
   "hash": "d4e05679d6a31593988b5489bd865ca5a262d5481eb276cba948c252ea078b95"
  },
  "kernelspec": {
   "display_name": "Python 3.8.8 ('xie')",
   "language": "python",
   "name": "python3"
  },
  "language_info": {
   "codemirror_mode": {
    "name": "ipython",
    "version": 3
   },
   "file_extension": ".py",
   "mimetype": "text/x-python",
   "name": "python",
   "nbconvert_exporter": "python",
   "pygments_lexer": "ipython3",
   "version": "3.8.8"
  },
  "toc": {
   "base_numbering": 1,
   "nav_menu": {},
   "number_sections": true,
   "sideBar": true,
   "skip_h1_title": false,
   "title_cell": "Table of Contents",
   "title_sidebar": "Contents",
   "toc_cell": true,
   "toc_position": {},
   "toc_section_display": true,
   "toc_window_display": true
  }
 },
 "nbformat": 4,
 "nbformat_minor": 4
}
